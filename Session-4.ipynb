{
 "cells": [
  {
   "cell_type": "code",
   "execution_count": 2,
   "metadata": {
    "scrolled": true
   },
   "outputs": [
    {
     "name": "stdout",
     "output_type": "stream",
     "text": [
      "<__main__.person object at 0x0000025CA7934340>\n",
      "tharu gowda was born on 1999.\n"
     ]
    }
   ],
   "source": [
    "class person:\n",
    "    pass\n",
    "stamp = person()\n",
    "stamp.name = 'tharu'\n",
    "stamp.surname = 'gowda'\n",
    "stamp.year_of_birth = 1999\n",
    "\n",
    "\n",
    "print(stamp)\n",
    "print(\"%s %s was born on %d.\"%(stamp.name,stamp.surname,stamp.year_of_birth))\n"
   ]
  },
  {
   "cell_type": "code",
   "execution_count": 8,
   "metadata": {},
   "outputs": [],
   "source": [
    "class person_1:\n",
    "    def __init__(self,name,surname,year_of_birth):\n",
    "        self.name = name\n",
    "        self.surname = surname\n",
    "        self.year_of_birth = year_of_birth"
   ]
  },
  {
   "cell_type": "code",
   "execution_count": 12,
   "metadata": {},
   "outputs": [
    {
     "name": "stdout",
     "output_type": "stream",
     "text": [
      "<__main__.person_1 object at 0x0000025CA7934B50>\n",
      "tharu gowda was born in 1999.\n"
     ]
    }
   ],
   "source": [
    "stamp = person_1(\"tharu\",\"gowda\",1999)\n",
    "print(stamp)\n",
    "print(\"%s %s was born in %d.\"%(stamp.name,stamp.surname,stamp.year_of_birth))"
   ]
  },
  {
   "cell_type": "code",
   "execution_count": 13,
   "metadata": {},
   "outputs": [
    {
     "name": "stdout",
     "output_type": "stream",
     "text": [
      "<__main__.person_2 object at 0x0000025CA7934400>\n",
      "tharu gowda was born in 1999.\n"
     ]
    }
   ],
   "source": [
    "class person_2:\n",
    "    def __init__(self,name,surname,year_of_birth):\n",
    "        self.name = name\n",
    "        self.surname = surname\n",
    "        self.year_of_birth = year_of_birth\n",
    "    def age(self,current_year):\n",
    "        return \"%s %s was born in %d.\"%(self.name,self.surname,self.year_of_birth)\n",
    "    \n",
    "stamp = person_2('tharu',\"gowda\",1999)\n",
    "print(stamp)\n",
    "print(stamp.age(2020))"
   ]
  },
  {
   "cell_type": "code",
   "execution_count": 18,
   "metadata": {},
   "outputs": [
    {
     "name": "stdout",
     "output_type": "stream",
     "text": [
      "tharu gowda was born in 1999.\n",
      "21\n"
     ]
    }
   ],
   "source": [
    "class person_2:\n",
    "    def __init__(self,name,surname,year_of_birth):\n",
    "        self.name = name\n",
    "        self.surname = surname\n",
    "        self.year_of_birth = year_of_birth\n",
    "    def age(self,curent_year):\n",
    "        return curent_year - self.year_of_birth\n",
    "    def __str__(self):\n",
    "         return \"%s %s was born in %d.\"%(self.name,self.surname,self.year_of_birth)\n",
    "stamp = person_2('tharu',\"gowda\",1999)\n",
    "print(stamp)\n",
    "print(stamp.age(2020))\n",
    "        \n",
    "    "
   ]
  },
  {
   "cell_type": "code",
   "execution_count": 19,
   "metadata": {},
   "outputs": [
    {
     "name": "stdout",
     "output_type": "stream",
     "text": [
      "tharu white was born in 1999.\n",
      "<class '__main__.student'>\n",
      "True\n",
      "True\n"
     ]
    }
   ],
   "source": [
    "#inheritance\n",
    "class student(person_2):\n",
    "    def __init__(self,student_id,*args,**kwargs):\n",
    "        super(student,self).__init__(*args,**kwargs)\n",
    "        self._student_id = student_id\n",
    "        \n",
    "tharu = student(1,'tharu','white',1999)\n",
    "print(tharu)\n",
    "print(type(tharu))\n",
    "print(isinstance(tharu,person_2))\n",
    "print(isinstance(tharu,object))"
   ]
  },
  {
   "cell_type": "code",
   "execution_count": 21,
   "metadata": {},
   "outputs": [
    {
     "name": "stdout",
     "output_type": "stream",
     "text": [
      "tharu white was born in 1999. and has ID: 100\n"
     ]
    }
   ],
   "source": [
    "#method overiding\n",
    "class student(person_2):\n",
    "    def __init__(self,student_id,*args,**kwargs):\n",
    "        super(student,self).__init__(*args,**kwargs)\n",
    "        self._student_id = student_id\n",
    "        \n",
    "    def __str__(self):\n",
    "        return super(student,self).__str__()+\" and has ID: %d\"%self._student_id\n",
    "    \n",
    "tharu = student(100,'tharu','white',1999)\n",
    "print(tharu)\n"
   ]
  },
  {
   "cell_type": "code",
   "execution_count": 30,
   "metadata": {},
   "outputs": [
    {
     "name": "stdout",
     "output_type": "stream",
     "text": [
      "7\n",
      "['a', 'b', 'c', 'd', 'a', 'b', 'c', 'd']\n",
      "abbccddcccbbdd\n"
     ]
    }
   ],
   "source": [
    "def summer(a,b):\n",
    "    return a+b\n",
    "print(summer(3,4))\n",
    "print(summer(['a','b','c','d'],['a','b','c','d']))\n",
    "print(summer(\"abbcc\",\"ddcccbbdd\"))"
   ]
  },
  {
   "cell_type": "code",
   "execution_count": 32,
   "metadata": {},
   "outputs": [
    {
     "name": "stdout",
     "output_type": "stream",
     "text": [
      "Overwriting tharu.txt\n"
     ]
    }
   ],
   "source": [
    "%%writefile tharu.txt\n",
    "hello,this is a quick tharu txt file"
   ]
  },
  {
   "cell_type": "code",
   "execution_count": 33,
   "metadata": {},
   "outputs": [],
   "source": [
    "my_file = open('tharu.txt')"
   ]
  },
  {
   "cell_type": "code",
   "execution_count": 34,
   "metadata": {},
   "outputs": [
    {
     "data": {
      "text/plain": [
       "'hello,this is a quick tharu txt file\\n'"
      ]
     },
     "execution_count": 34,
     "metadata": {},
     "output_type": "execute_result"
    }
   ],
   "source": [
    "my_file.read()"
   ]
  },
  {
   "cell_type": "code",
   "execution_count": 35,
   "metadata": {},
   "outputs": [
    {
     "data": {
      "text/plain": [
       "''"
      ]
     },
     "execution_count": 35,
     "metadata": {},
     "output_type": "execute_result"
    }
   ],
   "source": [
    "my_file.read()"
   ]
  },
  {
   "cell_type": "code",
   "execution_count": 37,
   "metadata": {},
   "outputs": [
    {
     "data": {
      "text/plain": [
       "0"
      ]
     },
     "execution_count": 37,
     "metadata": {},
     "output_type": "execute_result"
    }
   ],
   "source": [
    "my_file.seek(0)"
   ]
  },
  {
   "cell_type": "code",
   "execution_count": 38,
   "metadata": {},
   "outputs": [
    {
     "data": {
      "text/plain": [
       "'hello,this is a quick tharu txt file\\n'"
      ]
     },
     "execution_count": 38,
     "metadata": {},
     "output_type": "execute_result"
    }
   ],
   "source": [
    "my_file.read()"
   ]
  },
  {
   "cell_type": "code",
   "execution_count": 39,
   "metadata": {},
   "outputs": [
    {
     "data": {
      "text/plain": [
       "[]"
      ]
     },
     "execution_count": 39,
     "metadata": {},
     "output_type": "execute_result"
    }
   ],
   "source": [
    "my_file.readlines()"
   ]
  },
  {
   "cell_type": "code",
   "execution_count": 42,
   "metadata": {},
   "outputs": [],
   "source": [
    "my_file = open('tharu.txt', 'w+')\n"
   ]
  },
  {
   "cell_type": "code",
   "execution_count": 43,
   "metadata": {},
   "outputs": [
    {
     "data": {
      "text/plain": [
       "16"
      ]
     },
     "execution_count": 43,
     "metadata": {},
     "output_type": "execute_result"
    }
   ],
   "source": [
    "my_file.write(\"this is new line\")"
   ]
  },
  {
   "cell_type": "code",
   "execution_count": 44,
   "metadata": {},
   "outputs": [
    {
     "data": {
      "text/plain": [
       "0"
      ]
     },
     "execution_count": 44,
     "metadata": {},
     "output_type": "execute_result"
    }
   ],
   "source": [
    "my_file.seek(0)"
   ]
  },
  {
   "cell_type": "code",
   "execution_count": 45,
   "metadata": {},
   "outputs": [
    {
     "data": {
      "text/plain": [
       "'this is new line'"
      ]
     },
     "execution_count": 45,
     "metadata": {},
     "output_type": "execute_result"
    }
   ],
   "source": [
    "my_file.read()"
   ]
  },
  {
   "cell_type": "code",
   "execution_count": 48,
   "metadata": {},
   "outputs": [
    {
     "name": "stdout",
     "output_type": "stream",
     "text": [
      "Overwriting tharu.txt\n"
     ]
    }
   ],
   "source": [
    "%%writefile tharu.txt\n",
    "first line\n",
    "second line"
   ]
  },
  {
   "cell_type": "code",
   "execution_count": 49,
   "metadata": {},
   "outputs": [
    {
     "name": "stdout",
     "output_type": "stream",
     "text": [
      "first line\n",
      "\n",
      "second line\n",
      "\n"
     ]
    }
   ],
   "source": [
    "for line in open('tharu.txt'):\n",
    "    print(line)"
   ]
  },
  {
   "cell_type": "code",
   "execution_count": 50,
   "metadata": {},
   "outputs": [
    {
     "name": "stdout",
     "output_type": "stream",
     "text": [
      "first line\n",
      "\n",
      "second line\n",
      "\n"
     ]
    }
   ],
   "source": [
    "for asddf in open('tharu.txt'):\n",
    "    print(asddf)"
   ]
  },
  {
   "cell_type": "code",
   "execution_count": 55,
   "metadata": {},
   "outputs": [],
   "source": [
    "from io import StringIO\n"
   ]
  },
  {
   "cell_type": "code",
   "execution_count": 56,
   "metadata": {},
   "outputs": [],
   "source": [
    "message = \"this is a nornal string.\""
   ]
  },
  {
   "cell_type": "code",
   "execution_count": 57,
   "metadata": {},
   "outputs": [],
   "source": [
    "f = StringIO(message)"
   ]
  },
  {
   "cell_type": "code",
   "execution_count": 58,
   "metadata": {},
   "outputs": [
    {
     "data": {
      "text/plain": [
       "'this is a nornal string.'"
      ]
     },
     "execution_count": 58,
     "metadata": {},
     "output_type": "execute_result"
    }
   ],
   "source": [
    "f.read()"
   ]
  },
  {
   "cell_type": "code",
   "execution_count": 59,
   "metadata": {},
   "outputs": [
    {
     "data": {
      "text/plain": [
       "21"
      ]
     },
     "execution_count": 59,
     "metadata": {},
     "output_type": "execute_result"
    }
   ],
   "source": [
    "f.write(\"this is second object\")"
   ]
  },
  {
   "cell_type": "code",
   "execution_count": 60,
   "metadata": {},
   "outputs": [
    {
     "data": {
      "text/plain": [
       "0"
      ]
     },
     "execution_count": 60,
     "metadata": {},
     "output_type": "execute_result"
    }
   ],
   "source": [
    "f.seek(0)"
   ]
  },
  {
   "cell_type": "code",
   "execution_count": 61,
   "metadata": {},
   "outputs": [
    {
     "data": {
      "text/plain": [
       "'this is a nornal string.this is second object'"
      ]
     },
     "execution_count": 61,
     "metadata": {},
     "output_type": "execute_result"
    }
   ],
   "source": [
    "f.read()"
   ]
  }
 ],
 "metadata": {
  "kernelspec": {
   "display_name": "Python 3",
   "language": "python",
   "name": "python3"
  },
  "language_info": {
   "codemirror_mode": {
    "name": "ipython",
    "version": 3
   },
   "file_extension": ".py",
   "mimetype": "text/x-python",
   "name": "python",
   "nbconvert_exporter": "python",
   "pygments_lexer": "ipython3",
   "version": "3.8.3"
  }
 },
 "nbformat": 4,
 "nbformat_minor": 4
}
